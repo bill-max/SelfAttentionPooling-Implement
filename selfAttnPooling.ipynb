{
  "nbformat": 4,
  "nbformat_minor": 0,
  "metadata": {
    "colab": {
      "provenance": [],
      "authorship_tag": "ABX9TyMv0WrcpSTvDAYT1ovebuGY",
      "include_colab_link": true
    },
    "kernelspec": {
      "name": "python3",
      "display_name": "Python 3"
    },
    "language_info": {
      "name": "python"
    },
    "accelerator": "GPU",
    "gpuClass": "standard"
  },
  "cells": [
    {
      "cell_type": "markdown",
      "metadata": {
        "id": "view-in-github",
        "colab_type": "text"
      },
      "source": [
        "<a href=\"https://colab.research.google.com/github/bill-max/SelfAttentionPooling-Implement/blob/main/selfAttnPooling.ipynb\" target=\"_parent\"><img src=\"https://colab.research.google.com/assets/colab-badge.svg\" alt=\"Open In Colab\"/></a>"
      ]
    },
    {
      "cell_type": "code",
      "execution_count": 27,
      "metadata": {
        "id": "HV58DhD000Lf"
      },
      "outputs": [],
      "source": [
        "import torch\n",
        "import torch.nn as nn\n",
        "\n",
        "\n",
        "class SelfAttentionPooling(nn.Module):\n",
        "  def __init__(self, input_dim):\n",
        "    super(SelfAttentionPooling, self).__init__()\n",
        "    self.W = nn.Linear(input_dim, 1)\n",
        "\t\n",
        "  def forward(self, batch_rep):\n",
        "    softmax = nn.functional.softmax\n",
        "\n",
        "    att_w = softmax(self.W(batch_rep).squeeze(-1)).unsqueeze(-1)\n",
        "    # att_w = softmax(self.W(batch_rep).squeeze(-1))\n",
        "    utter_rep = torch.sum(batch_rep * att_w, dim=1)\n",
        "    # utter_rep = batch_rep * att_w\n",
        "    return utter_rep"
      ]
    },
    {
      "cell_type": "code",
      "source": [
        "model=torch.nn.Sequential(\n",
        "    SelfAttentionPooling(4)\n",
        ")\n",
        "x = torch.tensor([[1., 2., 3., 4.],[1. ,2. ,3. ,4.]])\n",
        "print(x.shape)\n",
        "out=model(x)\n",
        "print(out.shape)\n",
        "print(out)\n"
      ],
      "metadata": {
        "colab": {
          "base_uri": "https://localhost:8080/"
        },
        "id": "gofLFuh11yje",
        "outputId": "1fd97bea-4edc-4b0d-f331-aaff28844eee"
      },
      "execution_count": 28,
      "outputs": [
        {
          "output_type": "stream",
          "name": "stdout",
          "text": [
            "torch.Size([2, 4])\n",
            "torch.Size([2])\n",
            "tensor([5., 5.], grad_fn=<SumBackward1>)\n"
          ]
        },
        {
          "output_type": "stream",
          "name": "stderr",
          "text": [
            "/usr/local/lib/python3.7/dist-packages/ipykernel_launcher.py:13: UserWarning: Implicit dimension choice for softmax has been deprecated. Change the call to include dim=X as an argument.\n",
            "  del sys.path[0]\n"
          ]
        }
      ]
    },
    {
      "cell_type": "code",
      "source": [
        "import tensorflow as tf\n",
        "from tensorflow import keras\n",
        "\n",
        "class SelfAttentionPooling(tf.keras.layers.Layer):\n",
        "  def __init__(self,input_dim):\n",
        "    super(SelfAttentionPooling, self).__init__()\n",
        "    self.W=keras.layers.Dense(1,input_shape=(input_dim,))\n",
        "    self.softmax=keras.layers.Softmax()\n",
        "  def call(self, batch_rep):\n",
        "    att_w=self.softmax(tf.squeeze(self.W(batch_rep)))\n",
        "    att_w=tf.expand_dims(att_w,-1)\n",
        "    utter_rep=tf.reduce_sum(tf.multiply(batch_rep, att_w),1)\n",
        "    return utter_rep"
      ],
      "metadata": {
        "id": "gVcT4RB5063O"
      },
      "execution_count": 53,
      "outputs": []
    },
    {
      "cell_type": "code",
      "source": [
        "model=keras.Sequential(\n",
        "    SelfAttentionPooling(4)\n",
        ")\n",
        "x=tf.constant([[1., 2., 3., 4.],[1. ,2. ,3. ,4.]])\n",
        "print(x.shape)\n",
        "out=model(x)\n",
        "print(out.shape)\n",
        "print(out)"
      ],
      "metadata": {
        "colab": {
          "base_uri": "https://localhost:8080/"
        },
        "id": "I7bBcvw4_Yse",
        "outputId": "ab73a421-3847-4f6e-e9b8-ed0ff8cac7d3"
      },
      "execution_count": 54,
      "outputs": [
        {
          "output_type": "stream",
          "name": "stdout",
          "text": [
            "(2, 4)\n",
            "(2,)\n",
            "tf.Tensor([5. 5.], shape=(2,), dtype=float32)\n"
          ]
        }
      ]
    }
  ]
}